{
 "cells": [
  {
   "cell_type": "markdown",
   "id": "28a2ded5",
   "metadata": {},
   "source": [
    "# Handling LH5 data\n",
    "\n",
    "LEGEND stores its data in [HDF5](https://www.hdfgroup.org/solutions/hdf5) format, a high-performance data format becoming popular in experimental physics. LEGEND Data Objects (LGDO) are represented as HDF5 objects according to a custom specification, documented [here](https://legend-exp.github.io/legend-data-format-specs/dev/hdf5)."
   ]
  },
  {
   "cell_type": "markdown",
   "id": "701caca4",
   "metadata": {},
   "source": [
    "## Reading data from disk\n",
    "\n",
    "Let's start by downloading a small test LH5 file with the [pylegendtestdata](https://pypi.org/project/pylegendtestdata/) package (it takes a while depending on your internet connection):"
   ]
  },
  {
   "cell_type": "code",
   "execution_count": null,
   "id": "ce298181",
   "metadata": {},
   "outputs": [],
   "source": [
    "from legendtestdata import LegendTestData\n",
    "\n",
    "ldata = LegendTestData()\n",
    "lh5_file = ldata.get_path(\"lh5/LDQTA_r117_20200110T105115Z_cal_geds_raw.lh5\")"
   ]
  },
  {
   "cell_type": "markdown",
   "id": "c136b537",
   "metadata": {},
   "source": [
    "We can use `lgdo.lh5.ls()` [[docs]](https://legend-pydataobj.readthedocs.io/en/stable/api/lgdo.html#lgdo.lh5.tools.ls) to inspect the file contents:"
   ]
  },
  {
   "cell_type": "code",
   "execution_count": null,
   "id": "eb629856",
   "metadata": {},
   "outputs": [],
   "source": [
    "from lgdo.lh5 import ls\n",
    "\n",
    "ls(lh5_file)"
   ]
  },
  {
   "cell_type": "markdown",
   "id": "890676b6",
   "metadata": {},
   "source": [
    "This particular file contains an HDF5 group (they behave like directories). The second argument of `ls()` can be used to inspect a group (without the trailing `/`, only the group name is returned, if existing):"
   ]
  },
  {
   "cell_type": "code",
   "execution_count": null,
   "id": "22218548",
   "metadata": {},
   "outputs": [],
   "source": [
    "ls(lh5_file, \"geds/\")  # returns ['geds/raw'], which is a group again\n",
    "ls(lh5_file, \"geds/raw/\")"
   ]
  },
  {
   "cell_type": "markdown",
   "id": "4fd29157",
   "metadata": {},
   "source": [
    "<div class=\"alert alert-info\">\n",
    "\n",
    "**Note:** Alternatively to `ls()`, `show()` [[docs]](https://legend-pydataobj.readthedocs.io/en/stable/api/lgdo.html#lgdo.lh5.tools.show) prints a nice representation of the LH5 file contents (with LGDO types) on screen:\n",
    "\n",
    "</div>"
   ]
  },
  {
   "cell_type": "code",
   "execution_count": null,
   "id": "a382fcbd",
   "metadata": {},
   "outputs": [],
   "source": [
    "from lgdo.lh5 import show\n",
    "\n",
    "show(lh5_file)"
   ]
  },
  {
   "cell_type": "markdown",
   "id": "ef09f43c",
   "metadata": {},
   "source": [
    "The group contains several LGDOs. Let's read them in memory. We start by initializing an `LH5Store` [[docs]](https://legend-pydataobj.readthedocs.io/en/stable/api/lgdo.html#lgdo.lh5.store.LH5Store) object:"
   ]
  },
  {
   "cell_type": "code",
   "execution_count": null,
   "id": "0f4e2525",
   "metadata": {},
   "outputs": [],
   "source": [
    "from lgdo.lh5 import LH5Store\n",
    "\n",
    "store = LH5Store()"
   ]
  },
  {
   "cell_type": "markdown",
   "id": "60ce5b61",
   "metadata": {},
   "source": [
    "`read()` [[docs]](https://legend-pydataobj.readthedocs.io/en/stable/api/lgdo.html#lgdo.lh5.store.LH5Store.read) reads an LGDO from disk and returns the object in memory together with the number of rows (as a tuple), if an object has such a property. Let's try to read `geds/raw`:"
   ]
  },
  {
   "cell_type": "code",
   "execution_count": null,
   "id": "5a8b9ca4",
   "metadata": {},
   "outputs": [],
   "source": [
    "store.read(\"geds/raw\", lh5_file)"
   ]
  },
  {
   "cell_type": "markdown",
   "id": "9efdb924",
   "metadata": {},
   "source": [
    "As shown by the type signature, it is interpreted as a `Table` with 100 rows. Its contents (or \"columns\") can be therefore viewed as LGDO objects of the same length. For example `timestamp`:"
   ]
  },
  {
   "cell_type": "code",
   "execution_count": null,
   "id": "da22855d",
   "metadata": {},
   "outputs": [],
   "source": [
    "obj, n_rows = store.read(\"geds/raw/timestamp\", lh5_file)\n",
    "obj"
   ]
  },
  {
   "cell_type": "markdown",
   "id": "f2c8ff34",
   "metadata": {},
   "source": [
    "is an LGDO `Array` with 100 elements.\n",
    "\n",
    "`read_object()` also allows to perform more advanced data reading. For example, let's read only rows from 15 to 25:"
   ]
  },
  {
   "cell_type": "code",
   "execution_count": null,
   "id": "ce246705",
   "metadata": {},
   "outputs": [],
   "source": [
    "obj, n_rows = store.read(\"geds/raw/timestamp\", lh5_file, start_row=15, n_rows=10)\n",
    "print(obj)"
   ]
  },
  {
   "cell_type": "markdown",
   "id": "195ebefd",
   "metadata": {},
   "source": [
    "Or, let's read only columns `timestamp` and `energy` from the `geds/raw` table and rows `[1, 3, 7, 9, 10, 15]`:"
   ]
  },
  {
   "cell_type": "code",
   "execution_count": null,
   "id": "eaa06ebe",
   "metadata": {},
   "outputs": [],
   "source": [
    "obj, n_rows = store.read(\n",
    "    \"geds/raw\", lh5_file, field_mask=(\"timestamp\", \"energy\"), idx=[1, 3, 7, 9, 10, 15]\n",
    ")\n",
    "print(obj)"
   ]
  },
  {
   "cell_type": "markdown",
   "id": "b3f52d77",
   "metadata": {},
   "source": [
    "As you might have noticed, `read_object()` loads all the requested data in memory at once. This can be a problem when dealing with large datasets. `LH5Iterator` [[docs]](https://legend-pydataobj.readthedocs.io/en/stable/api/lgdo.html#lgdo.lh5.iterator.LH5Iterator) makes it possible to handle data one chunk at a time (sequentially) to avoid running out of memory:"
   ]
  },
  {
   "cell_type": "code",
   "execution_count": null,
   "id": "8f24d4e3",
   "metadata": {},
   "outputs": [],
   "source": [
    "from lgdo.lh5 import LH5Iterator\n",
    "\n",
    "for lh5_obj, entry, n_rows in LH5Iterator(lh5_file, \"geds/raw/energy\", buffer_len=20):\n",
    "    print(f\"entry {entry}, energy = {lh5_obj} ({n_rows} rows)\")"
   ]
  },
  {
   "cell_type": "markdown",
   "id": "684f8530",
   "metadata": {},
   "source": [
    "### Converting LGDO data to alternative formats\n",
    "\n",
    "Each LGDO is equipped with a class method called `view_as()` [[docs]](https://legend-pydataobj.readthedocs.io/en/stable/api/lgdo.types.html#lgdo.types.lgdo.LGDO.view_as), which allows the user to \"view\" the data (i.e. avoiding copying data as much as possible) in a different, third-party format.\n",
    "\n",
    "LGDOs generally support viewing as NumPy (`np`), Pandas (`pd`) or [Awkward](https://awkward-array.org) (`ak`) data structures, with some exceptions. We strongly recommend having a look at the `view_as()` API docs of each LGDO type for more details (for `Table.view_as()` [[docs]](https://legend-pydataobj.readthedocs.io/en/stable/api/lgdo.types.html#lgdo.types.table.Table.view_as), for example).\n",
    "\n",
    "<div class=\"alert alert-info\">\n",
    "\n",
    "**Note:** To obtain a copy of the data in the selected third-party format, the user can call the appropriate third-party copy method on the view (e.g. `pandas.DataFrame.copy()`, if viewing the data as a Pandas dataframe).\n",
    "\n",
    "</div>\n",
    "\n",
    "Let's play around with our good old table, can we view it as a Pandas dataframe?"
   ]
  },
  {
   "cell_type": "code",
   "execution_count": null,
   "id": "e2f48391",
   "metadata": {},
   "outputs": [],
   "source": [
    "obj, _ = store.read(\"geds/raw\", lh5_file)\n",
    "df = obj.view_as(\"pd\")\n",
    "df"
   ]
  },
  {
   "cell_type": "markdown",
   "id": "7f476362",
   "metadata": {},
   "source": [
    "Yes! But how are the nested objects being handled?\n",
    "\n",
    "Nested tables have been flattened by prefixing their column names with the table object name (`obj.waveform.values` becomes `df.waveform_values`) and multi-dimensional columns are represented by Awkward arrays:"
   ]
  },
  {
   "cell_type": "code",
   "execution_count": null,
   "id": "6261c8fe",
   "metadata": {},
   "outputs": [],
   "source": [
    "df.waveform_values"
   ]
  },
  {
   "cell_type": "markdown",
   "id": "6ed5904a",
   "metadata": {},
   "source": [
    "But what if we wanted to have the waveform values as a NumPy array?"
   ]
  },
  {
   "cell_type": "code",
   "execution_count": null,
   "id": "f4b45112",
   "metadata": {},
   "outputs": [],
   "source": [
    "obj.waveform.values.view_as(\"np\")"
   ]
  },
  {
   "cell_type": "markdown",
   "id": "d0c86728",
   "metadata": {},
   "source": [
    "Can we just view the full table as a huge Awkward array? Of course:"
   ]
  },
  {
   "cell_type": "code",
   "execution_count": null,
   "id": "33ae5c21",
   "metadata": {},
   "outputs": [],
   "source": [
    "obj.view_as(\"ak\")"
   ]
  },
  {
   "cell_type": "markdown",
   "id": "cd5fa308",
   "metadata": {},
   "source": [
    "Note that viewing a `VectorOfVector` as an Awkward array is a nearly zero-copy operation and opens a new avenue of fast computational possibilities thanks to Awkward:"
   ]
  },
  {
   "cell_type": "code",
   "execution_count": null,
   "id": "d75c8ff8",
   "metadata": {},
   "outputs": [],
   "source": [
    "import awkward as ak\n",
    "\n",
    "# tracelist is a VoV on disk\n",
    "trlist = obj.tracelist.view_as(\"ak\")\n",
    "ak.mean(trlist)"
   ]
  },
  {
   "cell_type": "markdown",
   "id": "d8d9ad8c",
   "metadata": {},
   "source": [
    "Last but not least, we support attaching physical units (that might be stored in the `units` attribute of an LGDO) to data views through Pint, if the third-party format allows it:"
   ]
  },
  {
   "cell_type": "code",
   "execution_count": null,
   "id": "4007efd4",
   "metadata": {},
   "outputs": [],
   "source": [
    "df = obj.view_as(\"pd\", with_units=True)\n",
    "df.timestamp.dtype"
   ]
  },
  {
   "cell_type": "markdown",
   "id": "25747c99",
   "metadata": {},
   "source": [
    "Note that we also provide the `read_as()` [[docs]](https://legend-pydataobj.readthedocs.io/en/stable/api/lgdo.lh5.html#lgdo.lh5.tools.read_as) shortcut to save some typing, for users that would like to read LH5 data on disk straight into some third-party format:"
   ]
  },
  {
   "cell_type": "code",
   "execution_count": null,
   "id": "bc16c8d8",
   "metadata": {},
   "outputs": [],
   "source": [
    "from lgdo.lh5 import read_as\n",
    "\n",
    "read_as(\"geds/raw\", lh5_file, \"pd\", with_units=True)"
   ]
  },
  {
   "cell_type": "markdown",
   "id": "3ab3794c",
   "metadata": {},
   "source": [
    "## Writing data to disk\n",
    "\n",
    "Let's start by creating some LGDOs:"
   ]
  },
  {
   "cell_type": "code",
   "execution_count": null,
   "id": "aaf2d352",
   "metadata": {},
   "outputs": [],
   "source": [
    "from lgdo import Array, Scalar, WaveformTable\n",
    "import numpy as np\n",
    "\n",
    "rng = np.random.default_rng(12345)\n",
    "\n",
    "scalar = Scalar(\"made with legend-pydataobj!\")\n",
    "array = Array(rng.random(size=10))\n",
    "wf_table = WaveformTable(values=rng.integers(low=1000, high=5000, size=(10, 1000)))"
   ]
  },
  {
   "cell_type": "markdown",
   "id": "cbfd91c2",
   "metadata": {},
   "source": [
    "The `write()` [[docs]](https://legend-pydataobj.readthedocs.io/en/stable/api/lgdo.html#lgdo.lh5.store.LH5Store.write) method of `LH5Store` makes it possible to write LGDO objects on disk. Let's start by writing `scalar` with name `message` in a file named `my_data.lh5` in the current directory:"
   ]
  },
  {
   "cell_type": "code",
   "execution_count": null,
   "id": "5ad1d10e",
   "metadata": {},
   "outputs": [],
   "source": [
    "store = LH5Store()\n",
    "\n",
    "store.write(scalar, name=\"message\", lh5_file=\"my_objects.lh5\", wo_mode=\"overwrite_file\")"
   ]
  },
  {
   "cell_type": "markdown",
   "id": "430c2c7e",
   "metadata": {},
   "source": [
    "Let's now inspect the file contents:"
   ]
  },
  {
   "cell_type": "code",
   "execution_count": null,
   "id": "777d7daf",
   "metadata": {},
   "outputs": [],
   "source": [
    "from lgdo.lh5 import show\n",
    "\n",
    "show(\"my_objects.lh5\")"
   ]
  },
  {
   "cell_type": "markdown",
   "id": "227bea86",
   "metadata": {},
   "source": [
    "The string object has been written at the root of the file `/`. Let's now write also `array` and `wf_table`, this time in a HDF5 group called `closet`:"
   ]
  },
  {
   "cell_type": "code",
   "execution_count": null,
   "id": "19c7703c",
   "metadata": {},
   "outputs": [],
   "source": [
    "store.write(array, name=\"numbers\", group=\"closet\", lh5_file=\"my_objects.lh5\")\n",
    "store.write(wf_table, name=\"waveforms\", group=\"closet\", lh5_file=\"my_objects.lh5\")\n",
    "show(\"my_objects.lh5\")"
   ]
  },
  {
   "cell_type": "markdown",
   "id": "e266c2ac",
   "metadata": {},
   "source": [
    "Everything looks right!\n",
    "\n",
    "<div class=\"alert alert-info\">\n",
    "\n",
    "**Note:** `LH5Store.write()` allows for more advanced usage, like writing only some rows of the input object or appending to existing array-like structures. Have a look at the [[docs]](https://legend-pydataobj.readthedocs.io/en/stable/api/lgdo.html#lgdo.lh5.store.LH5Store.write) for more information.\n",
    "\n",
    "</div>"
   ]
  }
 ],
 "metadata": {},
 "nbformat": 4,
 "nbformat_minor": 5
}
